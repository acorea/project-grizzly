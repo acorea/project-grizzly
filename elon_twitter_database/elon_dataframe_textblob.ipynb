{
 "metadata": {
  "language_info": {
   "codemirror_mode": {
    "name": "ipython",
    "version": 3
   },
   "file_extension": ".py",
   "mimetype": "text/x-python",
   "name": "python",
   "nbconvert_exporter": "python",
   "pygments_lexer": "ipython3",
   "version": "3.8.5"
  },
  "orig_nbformat": 4,
  "kernelspec": {
   "name": "python3",
   "display_name": "Python 3.8.5 64-bit ('base': conda)"
  },
  "interpreter": {
   "hash": "62249ab88f004581040b552093f6a37d297968d50509d16f925c90e58a716667"
  }
 },
 "nbformat": 4,
 "nbformat_minor": 2,
 "cells": [
  {
   "cell_type": "code",
   "execution_count": 1,
   "metadata": {},
   "outputs": [],
   "source": [
    "from typing import List\n",
    "from pandas.core.frame import DataFrame\n",
    "from textblob import TextBlob\n",
    "import pandas as pd"
   ]
  },
  {
   "cell_type": "code",
   "execution_count": 2,
   "metadata": {},
   "outputs": [],
   "source": [
    "# Point to source csv file\n",
    "elon_df = pd.read_csv('elon.csv')"
   ]
  },
  {
   "cell_type": "code",
   "execution_count": 3,
   "metadata": {},
   "outputs": [],
   "source": [
    "# Function to add TextBlob data to the csv\n",
    "def add_tb_data(df: DataFrame, attrs: List[str]) -> DataFrame:\n",
    "    def tb(tweet, _attr: str):\n",
    "        _tb = TextBlob(tweet)\n",
    "        return _tb.__getattribute__(_attr)\n",
    "    \n",
    "    for attr in attrs:\n",
    "        df[attr] = df['tweet'].apply(tb, _attr=attr)\n",
    "\n",
    "    return df"
   ]
  },
  {
   "cell_type": "code",
   "execution_count": 4,
   "metadata": {},
   "outputs": [],
   "source": [
    "# Function to fix the date, removing timezone\n",
    "def fix_time(t: str):\n",
    "    suffix_est = ' Pacific Standard Time'\n",
    "    suffix_edt = ' Pacific Daylight Time'\n",
    "    return t.replace(suffix_edt, '').replace(suffix_est, '')"
   ]
  },
  {
   "cell_type": "code",
   "execution_count": 5,
   "metadata": {},
   "outputs": [],
   "source": [
    "# Run function to fix the date\n",
    "elon_df['created_at'] = elon_df['created_at'].apply(lambda x: fix_time(x))"
   ]
  },
  {
   "cell_type": "code",
   "execution_count": 6,
   "metadata": {},
   "outputs": [],
   "source": [
    "# Pull columns I want from the csv file\n",
    "elon_df = elon_df[['id', 'tweet', 'created_at']]\n"
   ]
  },
  {
   "cell_type": "code",
   "execution_count": 7,
   "metadata": {},
   "outputs": [],
   "source": [
    "# Declare textblob attrs\n",
    "add_attrs = ['noun_phrases', 'polarity', 'subjectivity']\n",
    "# Use new textblob function to add textblob data columns\n",
    "elon_df = add_tb_data(elon_df, add_attrs)"
   ]
  },
  {
   "cell_type": "code",
   "execution_count": 8,
   "metadata": {},
   "outputs": [],
   "source": [
    "# Output new Dataframe to csv file\n",
    "elon_df.to_csv('elon_sentsubj.csv', index=False)"
   ]
  },
  {
   "cell_type": "code",
   "execution_count": null,
   "metadata": {},
   "outputs": [],
   "source": []
  }
 ]
}