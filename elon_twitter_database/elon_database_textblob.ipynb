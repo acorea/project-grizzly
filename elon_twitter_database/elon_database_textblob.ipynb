{
 "metadata": {
  "language_info": {
   "codemirror_mode": {
    "name": "ipython",
    "version": 3
   },
   "file_extension": ".py",
   "mimetype": "text/x-python",
   "name": "python",
   "nbconvert_exporter": "python",
   "pygments_lexer": "ipython3",
   "version": "3.8.5"
  },
  "orig_nbformat": 4,
  "kernelspec": {
   "name": "python3",
   "display_name": "Python 3.8.5 64-bit ('base': conda)"
  },
  "interpreter": {
   "hash": "62249ab88f004581040b552093f6a37d297968d50509d16f925c90e58a716667"
  }
 },
 "nbformat": 4,
 "nbformat_minor": 2,
 "cells": [
  {
   "cell_type": "code",
   "execution_count": 1,
   "metadata": {},
   "outputs": [],
   "source": [
    "from typing import List\n",
    "from matplotlib.pyplot import get\n",
    "from pandas.core.frame import DataFrame\n",
    "from textblob import TextBlob\n",
    "import pandas as pd"
   ]
  },
  {
   "cell_type": "code",
   "execution_count": 2,
   "metadata": {},
   "outputs": [],
   "source": [
    "elon_df = pd.read_csv('elon.csv')\n",
    "elon_df.drop(elon_df.tail(1689).index,inplace=True)"
   ]
  },
  {
   "cell_type": "code",
   "execution_count": 3,
   "metadata": {},
   "outputs": [],
   "source": [
    "def add_tb_data(df: DataFrame, attrs: List[str]) -> DataFrame:\n",
    "    def get_tb_attr(tweet, _attr: str):\n",
    "        tb = TextBlob(tweet)\n",
    "        return tb.__getattribute__(_attr)\n",
    "    \n",
    "    for attr in attrs:\n",
    "        df[attr] = df['tweet'].apply(get_tb_attr, _attr=attr)\n",
    "\n",
    "    return df"
   ]
  },
  {
   "cell_type": "code",
   "execution_count": 4,
   "metadata": {},
   "outputs": [],
   "source": [
    "def fix_time(t: str):\n",
    "    suffix_pst = ' Pacific Standard Time'\n",
    "    suffix_pdt = ' Pacific Daylight Time'\n",
    "    return t.replace(suffix_pdt, '').replace(suffix_pst, '')"
   ]
  },
  {
   "cell_type": "code",
   "execution_count": 5,
   "metadata": {},
   "outputs": [],
   "source": [
    "elon_df = elon_df[['id', 'tweet', 'created_at']]\n",
    "\n",
    "elon_df['created_at'] = elon_df['created_at'].apply(lambda x: fix_time(x))\n",
    "\n",
    "add_attrs = ['noun_phrases', 'polarity', 'subjectivity']\n",
    "\n",
    "elon_df = add_tb_data(elon_df, add_attrs)\n",
    "\n",
    "elon_df.to_csv('elon_sentsubj.csv', index=False)\n"
   ]
  },
  {
   "cell_type": "code",
   "execution_count": null,
   "metadata": {},
   "outputs": [],
   "source": []
  }
 ]
}