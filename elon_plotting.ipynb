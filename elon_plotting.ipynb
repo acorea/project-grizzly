{
 "metadata": {
  "language_info": {
   "codemirror_mode": {
    "name": "ipython",
    "version": 3
   },
   "file_extension": ".py",
   "mimetype": "text/x-python",
   "name": "python",
   "nbconvert_exporter": "python",
   "pygments_lexer": "ipython3",
   "version": "3.8.5"
  },
  "orig_nbformat": 4,
  "kernelspec": {
   "name": "python3",
   "display_name": "Python 3.8.5 64-bit ('base': conda)"
  },
  "interpreter": {
   "hash": "62249ab88f004581040b552093f6a37d297968d50509d16f925c90e58a716667"
  }
 },
 "nbformat": 4,
 "nbformat_minor": 2,
 "cells": [
  {
   "cell_type": "code",
   "execution_count": null,
   "metadata": {},
   "outputs": [],
   "source": [
    "import pandas as pd"
   ]
  },
  {
   "cell_type": "code",
   "execution_count": null,
   "metadata": {},
   "outputs": [],
   "source": [
    "all_tweets_df = pd.read_csv('elon_twitter_database\\elon_sentsubj.csv')\n",
    "bitcoin_values_df = pd.read_csv('bitcoin_database\\Cleaned\\BTCUSDT.csv')\n",
    "dogecoin_values_df = pd.read_csv('dogecoin_database\\Cleaned\\DOGEUSDT.csv')\n",
    "\n",
    "cyrpto_btcval_tweets = pd.read_csv('crypto_btcval_tweets.csv')\n",
    "cyrpto_dogeval_tweets = pd.read_csv('crypto_dogeval_tweets.csv')"
   ]
  },
  {
   "cell_type": "code",
   "execution_count": null,
   "metadata": {},
   "outputs": [],
   "source": [
    "# Creating new dataframes for plotting Tweets Per Day vs Trades Per Day\n",
    "bitcoin_values_df['Open Time'] = pd.to_datetime(bitcoin_values_df['Open Time'],unit='ms')\n",
    "bitcoin_values_df = bitcoin_values_df[['Open Time', 'Trades']]\n",
    "bitcoin_values_df = bitcoin_values_df.groupby(pd.to_datetime(bitcoin_values_df['Open Time']).dt.date).agg({'Trades': 'sum'}).reset_index() \n",
    "bitcoin_values_df.columns = ['Date', ' Btc Trades']\n",
    "bitcoin_values_df.drop(bitcoin_values_df.head(4).index, inplace=True)\n",
    "\n",
    "dogecoin_values_df['Open Time'] = pd.to_datetime(dogecoin_values_df['Open Time'],unit='ms')\n",
    "dogecoin_values_df = dogecoin_values_df[['Open Time', 'Trades']]\n",
    "dogecoin_values_df = dogecoin_values_df.groupby(pd.to_datetime(dogecoin_values_df['Open Time']).dt.date).agg({'Trades': 'sum'}).reset_index() \n",
    "dogecoin_values_df.columns = ['Date', 'Doge Trades']\n",
    "\n",
    "all_tweets_df = all_tweets_df[['created_at', 'tweet']]\n",
    "all_tweets_df = all_tweets_df.groupby(pd.to_datetime(all_tweets_df['created_at']).dt.date).agg({'tweet': 'count'}).reset_index() \n",
    "all_tweets_df.columns = ['Date', 'Tweets']\n",
    "\n",
    "merged_tweet_values = all_tweets_df.merge(bitcoin_values_df, on='Date', how='right').merge(dogecoin_values_df, on='Date', how='left')"
   ]
  },
  {
   "cell_type": "code",
   "execution_count": null,
   "metadata": {},
   "outputs": [],
   "source": [
    "# Fill days Elon didn't tweet with '0'\r\n",
    "merged_tweet_values.fillna(0)"
   ]
  },
  {
   "cell_type": "code",
   "execution_count": null,
   "metadata": {},
   "outputs": [],
   "source": [
    "# Create plot for merged_tweet_values: Compare Tweets vs Trades per day\n",
    "# One plot per coin type"
   ]
  },
  {
   "cell_type": "code",
   "execution_count": null,
   "metadata": {},
   "outputs": [],
   "source": [
    "# Create a dataframe for crypto_btcval_tweets (or) crypto_dogeval_tweets\n",
    "\n",
    "# Column Needed: created_at, is_btc, is_crypto, is_tesla, 5 minutes change, 30 minutes change\n",
    "# Use is_btc to find all rows with value '1', then make a new dataframe for those rows\n",
    "# Repeat to find rows for is_crypto\n",
    "# Repeat again to find rows for is_tesla\n",
    "# After all this feel free to edit column names to make them look better\n",
    "\n",
    "# Using those 3 new dataframes create scatter plots\n",
    "# 5 percent change\n",
    "# 30 minute change\n",
    "# We'll end up with 6 scatter plots, 3 for 5 minute change, and 3 for 30 minute change"
   ]
  }
 ]
}