{
 "metadata": {
  "language_info": {
   "codemirror_mode": {
    "name": "ipython",
    "version": 3
   },
   "file_extension": ".py",
   "mimetype": "text/x-python",
   "name": "python",
   "nbconvert_exporter": "python",
   "pygments_lexer": "ipython3",
   "version": "3.8.5"
  },
  "orig_nbformat": 4,
  "kernelspec": {
   "name": "python3",
   "display_name": "Python 3.8.5 64-bit ('base': conda)"
  },
  "interpreter": {
   "hash": "62249ab88f004581040b552093f6a37d297968d50509d16f925c90e58a716667"
  }
 },
 "nbformat": 4,
 "nbformat_minor": 2,
 "cells": [
  {
   "cell_type": "code",
   "execution_count": 1,
   "metadata": {},
   "outputs": [],
   "source": [
    "import pandas as pd"
   ]
  },
  {
   "cell_type": "code",
   "execution_count": 2,
   "metadata": {},
   "outputs": [],
   "source": [
    "all_tweets_df = pd.read_csv('elon_twitter_database\\elon_sentsubj.csv')\n",
    "bitcoin_values_df = pd.read_csv('bitcoin_database\\Cleaned\\BTCUSDT.csv')\n",
    "dogecoin_values_df = pd.read_csv('dogecoin_database\\Cleaned\\DOGEUSDT.csv')"
   ]
  },
  {
   "cell_type": "code",
   "execution_count": 3,
   "metadata": {},
   "outputs": [],
   "source": [
    "# Creating new dataframes for plotting trades per day\n",
    "bitcoin_values_df['Open Time'] = pd.to_datetime(bitcoin_values_df['Open Time'],unit='ms')\n",
    "bitcoin_values_df = bitcoin_values_df[['Open Time', 'Trades']]\n",
    "bitcoin_values_df = bitcoin_values_df.groupby(pd.to_datetime(bitcoin_values_df['Open Time']).dt.date).agg({'Trades': 'sum'}).reset_index() \n",
    "bitcoin_values_df.columns = ['Date', ' Btc Trades']\n",
    "bitcoin_values_df.drop(bitcoin_values_df.head(4).index, inplace=True)\n",
    "\n",
    "dogecoin_values_df['Open Time'] = pd.to_datetime(dogecoin_values_df['Open Time'],unit='ms')\n",
    "dogecoin_values_df = dogecoin_values_df[['Open Time', 'Trades']]\n",
    "dogecoin_values_df = dogecoin_values_df.groupby(pd.to_datetime(dogecoin_values_df['Open Time']).dt.date).agg({'Trades': 'sum'}).reset_index() \n",
    "dogecoin_values_df.columns = ['Date', 'Doge Trades']\n",
    "\n",
    "all_tweets_df = all_tweets_df[['created_at', 'tweet']]\n",
    "all_tweets_df = all_tweets_df.groupby(pd.to_datetime(all_tweets_df['created_at']).dt.date).agg({'tweet': 'count'}).reset_index() \n",
    "all_tweets_df.columns = ['Date', 'Tweets']\n"
   ]
  },
  {
   "cell_type": "code",
   "execution_count": 4,
   "metadata": {},
   "outputs": [],
   "source": [
    "merged_tweet_values = all_tweets_df.merge(bitcoin_values_df, on='Date', how='right').merge(dogecoin_values_df, on='Date', how='left')\n"
   ]
  },
  {
   "cell_type": "code",
   "execution_count": 5,
   "metadata": {},
   "outputs": [
    {
     "output_type": "execute_result",
     "data": {
      "text/plain": [
       "           Date  Tweets   Btc Trades  Doge Trades\n",
       "0    2019-07-05     0.0       564857        18589\n",
       "1    2019-07-06     6.0       470692        17250\n",
       "2    2019-07-07    28.0       366769         9394\n",
       "3    2019-07-08     7.0       507860         4958\n",
       "4    2019-07-09    15.0       660273         5690\n",
       "..          ...     ...          ...          ...\n",
       "692  2021-05-27     6.0      2102182       880120\n",
       "693  2021-05-28    11.0      2659178      1285560\n",
       "694  2021-05-29     6.0      2169643       951711\n",
       "695  2021-05-30     5.0      1559892       762600\n",
       "696  2021-05-31     7.0      1896359       956702\n",
       "\n",
       "[697 rows x 4 columns]"
      ],
      "text/html": "<div>\n<style scoped>\n    .dataframe tbody tr th:only-of-type {\n        vertical-align: middle;\n    }\n\n    .dataframe tbody tr th {\n        vertical-align: top;\n    }\n\n    .dataframe thead th {\n        text-align: right;\n    }\n</style>\n<table border=\"1\" class=\"dataframe\">\n  <thead>\n    <tr style=\"text-align: right;\">\n      <th></th>\n      <th>Date</th>\n      <th>Tweets</th>\n      <th>Btc Trades</th>\n      <th>Doge Trades</th>\n    </tr>\n  </thead>\n  <tbody>\n    <tr>\n      <th>0</th>\n      <td>2019-07-05</td>\n      <td>0.0</td>\n      <td>564857</td>\n      <td>18589</td>\n    </tr>\n    <tr>\n      <th>1</th>\n      <td>2019-07-06</td>\n      <td>6.0</td>\n      <td>470692</td>\n      <td>17250</td>\n    </tr>\n    <tr>\n      <th>2</th>\n      <td>2019-07-07</td>\n      <td>28.0</td>\n      <td>366769</td>\n      <td>9394</td>\n    </tr>\n    <tr>\n      <th>3</th>\n      <td>2019-07-08</td>\n      <td>7.0</td>\n      <td>507860</td>\n      <td>4958</td>\n    </tr>\n    <tr>\n      <th>4</th>\n      <td>2019-07-09</td>\n      <td>15.0</td>\n      <td>660273</td>\n      <td>5690</td>\n    </tr>\n    <tr>\n      <th>...</th>\n      <td>...</td>\n      <td>...</td>\n      <td>...</td>\n      <td>...</td>\n    </tr>\n    <tr>\n      <th>692</th>\n      <td>2021-05-27</td>\n      <td>6.0</td>\n      <td>2102182</td>\n      <td>880120</td>\n    </tr>\n    <tr>\n      <th>693</th>\n      <td>2021-05-28</td>\n      <td>11.0</td>\n      <td>2659178</td>\n      <td>1285560</td>\n    </tr>\n    <tr>\n      <th>694</th>\n      <td>2021-05-29</td>\n      <td>6.0</td>\n      <td>2169643</td>\n      <td>951711</td>\n    </tr>\n    <tr>\n      <th>695</th>\n      <td>2021-05-30</td>\n      <td>5.0</td>\n      <td>1559892</td>\n      <td>762600</td>\n    </tr>\n    <tr>\n      <th>696</th>\n      <td>2021-05-31</td>\n      <td>7.0</td>\n      <td>1896359</td>\n      <td>956702</td>\n    </tr>\n  </tbody>\n</table>\n<p>697 rows × 4 columns</p>\n</div>"
     },
     "metadata": {},
     "execution_count": 5
    }
   ],
   "source": [
    "merged_tweet_values.fillna(0)"
   ]
  },
  {
   "cell_type": "code",
   "execution_count": null,
   "metadata": {},
   "outputs": [],
   "source": []
  }
 ]
}