{
 "cells": [
  {
   "cell_type": "code",
   "execution_count": 1,
   "metadata": {},
   "outputs": [],
   "source": [
    "import pandas as pd\n",
    "import matplotlib.pyplot as plt"
   ]
  },
  {
   "cell_type": "code",
   "execution_count": 2,
   "metadata": {},
   "outputs": [],
   "source": [
    "all_tweets_df = pd.read_csv('elon_twitter_database\\elon_sentsubj.csv')\n",
    "bitcoin_values_df = pd.read_csv('bitcoin_database\\Cleaned\\BTCUSDT.csv')\n",
    "dogecoin_values_df = pd.read_csv('dogecoin_database\\Cleaned\\DOGEUSDT.csv')\n",
    "\n",
    "cyrpto_btcval_tweets = pd.read_csv('crypto_btcval_tweets.csv')\n",
    "cyrpto_dogeval_tweets = pd.read_csv('crypto_dogeval_tweets.csv')"
   ]
  },
  {
   "cell_type": "code",
   "execution_count": 3,
   "metadata": {},
   "outputs": [],
   "source": [
    "# Creating new dataframes for plotting Tweets Per Day vs Trades Per Day\n",
    "bitcoin_values_df['Open Time'] = pd.to_datetime(bitcoin_values_df['Open Time'],unit='ms')\n",
    "bitcoin_values_df = bitcoin_values_df[['Open Time', 'Trades']]\n",
    "bitcoin_values_df = bitcoin_values_df.groupby(pd.to_datetime(bitcoin_values_df['Open Time']).dt.date).agg({'Trades': 'sum'}).reset_index() \n",
    "bitcoin_values_df.columns = ['Date', ' Btc Trades']\n",
    "bitcoin_values_df.drop(bitcoin_values_df.head(4).index, inplace=True)\n",
    "\n",
    "dogecoin_values_df['Open Time'] = pd.to_datetime(dogecoin_values_df['Open Time'],unit='ms')\n",
    "dogecoin_values_df = dogecoin_values_df[['Open Time', 'Trades']]\n",
    "dogecoin_values_df = dogecoin_values_df.groupby(pd.to_datetime(dogecoin_values_df['Open Time']).dt.date).agg({'Trades': 'sum'}).reset_index() \n",
    "dogecoin_values_df.columns = ['Date', 'Doge Trades']\n",
    "\n",
    "all_tweets_df = all_tweets_df[['created_at', 'tweet']]\n",
    "all_tweets_df = all_tweets_df.groupby(pd.to_datetime(all_tweets_df['created_at']).dt.date).agg({'tweet': 'count'}).reset_index() \n",
    "all_tweets_df.columns = ['Date', 'Tweets']\n",
    "\n",
    "merged_tweet_values = all_tweets_df.merge(bitcoin_values_df, on='Date', how='right').merge(dogecoin_values_df, on='Date', how='left')"
   ]
  },
  {
   "cell_type": "code",
   "execution_count": 4,
   "metadata": {},
   "outputs": [],
   "source": [
    "# Fill days Elon didn't tweet with '0'\n",
    "merged_tweet_values = merged_tweet_values.fillna(0)"
   ]
  },
  {
   "cell_type": "code",
   "execution_count": 5,
   "metadata": {},
   "outputs": [],
   "source": [
    "# Create plot for merged_tweet_values: Compare Tweets vs Trades per day\n",
    "# One plot per coin type"
   ]
  },
  {
   "cell_type": "code",
   "execution_count": 6,
   "metadata": {},
   "outputs": [],
   "source": [
    "# Create a dataframe for crypto_btcval_tweets\n",
    "\n",
    "# Column Needed: created_at, is_btc, is_crypto, is_tesla, 5 minutes change, 30 minutes change\n",
    "# Use is_btc to find all rows with value '1', then make a new dataframe for those rows\n",
    "# Repeat to find rows for is_crypto\n",
    "# Repeat again to find rows for is_tesla\n",
    "# After all this feel free to edit column names to make them look better\n",
    "\n",
    "# Using those 3 new dataframes create scatter plots\n",
    "# 5 minutes change\n",
    "# 30 minutes change\n",
    "# We'll end up with 6 scatter plots, 3 for 5 minutes change, and 3 for 30 minutes change"
   ]
  },
  {
   "cell_type": "code",
   "execution_count": 7,
   "metadata": {},
   "outputs": [],
   "source": [
    "# Create a dataframe for crypto_dogeval_tweets\n",
    "\n",
    "# Column Needed: created_at, is_doge, is_crypto, is_tesla, 5 minutes change, 30 minutes change\n",
    "# Use is_btc to find all rows with value '1', then make a new dataframe for those rows\n",
    "# Repeat to find rows for is_crypto\n",
    "# Repeat again to find rows for is_tesla\n",
    "# After all this feel free to edit column names to make them look better\n",
    "\n",
    "# Using those 3 new dataframes create scatter plots\n",
    "# 5 minutes change\n",
    "# 30 minutes change\n",
    "# We'll end up with 6 scatter plots, 3 for 5 minutes change, and 3 for 30 minutes change"
   ]
  },
  {
   "cell_type": "code",
   "execution_count": 8,
   "metadata": {},
   "outputs": [
    {
     "data": {
      "text/html": [
       "<div>\n",
       "<style scoped>\n",
       "    .dataframe tbody tr th:only-of-type {\n",
       "        vertical-align: middle;\n",
       "    }\n",
       "\n",
       "    .dataframe tbody tr th {\n",
       "        vertical-align: top;\n",
       "    }\n",
       "\n",
       "    .dataframe thead th {\n",
       "        text-align: right;\n",
       "    }\n",
       "</style>\n",
       "<table border=\"1\" class=\"dataframe\">\n",
       "  <thead>\n",
       "    <tr style=\"text-align: right;\">\n",
       "      <th></th>\n",
       "      <th>id</th>\n",
       "      <th>created_at</th>\n",
       "      <th>tweet</th>\n",
       "      <th>noun_phrases</th>\n",
       "      <th>polarity</th>\n",
       "      <th>subjectivity</th>\n",
       "      <th>is_btc</th>\n",
       "      <th>is_doge</th>\n",
       "      <th>is_crypto</th>\n",
       "      <th>is_tesla</th>\n",
       "      <th>5 minutes beginning value</th>\n",
       "      <th>5 minutes end value</th>\n",
       "      <th>5 minutes change pct</th>\n",
       "      <th>30 minutes beginning value</th>\n",
       "      <th>30 minutes end value</th>\n",
       "      <th>30 minutes change pct</th>\n",
       "    </tr>\n",
       "  </thead>\n",
       "  <tbody>\n",
       "    <tr>\n",
       "      <th>0</th>\n",
       "      <td>1.215527e+18</td>\n",
       "      <td>2020-01-09 22:53:10</td>\n",
       "      <td>Bitcoin is *not* my safe word</td>\n",
       "      <td>['bitcoin', 'safe word']</td>\n",
       "      <td>0.500</td>\n",
       "      <td>0.500</td>\n",
       "      <td>1.0</td>\n",
       "      <td>0.0</td>\n",
       "      <td>1.0</td>\n",
       "      <td>0.0</td>\n",
       "      <td>0.002133</td>\n",
       "      <td>0.002133</td>\n",
       "      <td>-0.000094</td>\n",
       "      <td>0.002133</td>\n",
       "      <td>0.002123</td>\n",
       "      <td>-0.004781</td>\n",
       "    </tr>\n",
       "    <tr>\n",
       "      <th>1</th>\n",
       "      <td>1.237785e+18</td>\n",
       "      <td>2020-03-11 09:57:51</td>\n",
       "      <td>Moon too</td>\n",
       "      <td>['moon']</td>\n",
       "      <td>0.000</td>\n",
       "      <td>0.000</td>\n",
       "      <td>0.0</td>\n",
       "      <td>0.0</td>\n",
       "      <td>1.0</td>\n",
       "      <td>0.0</td>\n",
       "      <td>0.002182</td>\n",
       "      <td>0.002181</td>\n",
       "      <td>-0.000367</td>\n",
       "      <td>0.002182</td>\n",
       "      <td>0.002165</td>\n",
       "      <td>-0.007472</td>\n",
       "    </tr>\n",
       "    <tr>\n",
       "      <th>2</th>\n",
       "      <td>1.256351e+18</td>\n",
       "      <td>2020-05-01 15:34:24</td>\n",
       "      <td>@Bitcoin 🤣🤣</td>\n",
       "      <td>['bitcoin']</td>\n",
       "      <td>0.000</td>\n",
       "      <td>0.000</td>\n",
       "      <td>1.0</td>\n",
       "      <td>0.0</td>\n",
       "      <td>1.0</td>\n",
       "      <td>0.0</td>\n",
       "      <td>0.002485</td>\n",
       "      <td>0.002479</td>\n",
       "      <td>-0.002535</td>\n",
       "      <td>0.002485</td>\n",
       "      <td>0.002461</td>\n",
       "      <td>-0.009737</td>\n",
       "    </tr>\n",
       "    <tr>\n",
       "      <th>3</th>\n",
       "      <td>1.256354e+18</td>\n",
       "      <td>2020-05-01 15:44:56</td>\n",
       "      <td>@Bitcoin How much for some anime Bitcoin?  htt...</td>\n",
       "      <td>['bitcoin', 'bitcoin']</td>\n",
       "      <td>0.200</td>\n",
       "      <td>0.200</td>\n",
       "      <td>1.0</td>\n",
       "      <td>0.0</td>\n",
       "      <td>1.0</td>\n",
       "      <td>0.0</td>\n",
       "      <td>0.002480</td>\n",
       "      <td>0.002479</td>\n",
       "      <td>-0.000444</td>\n",
       "      <td>0.002480</td>\n",
       "      <td>0.002457</td>\n",
       "      <td>-0.009274</td>\n",
       "    </tr>\n",
       "    <tr>\n",
       "      <th>4</th>\n",
       "      <td>1.284290e+18</td>\n",
       "      <td>2020-07-17 17:53:43</td>\n",
       "      <td>@izzynobre Excuse me, I only sell Doge!</td>\n",
       "      <td>['@ izzynobre', 'excuse', 'doge']</td>\n",
       "      <td>-0.025</td>\n",
       "      <td>0.525</td>\n",
       "      <td>0.0</td>\n",
       "      <td>1.0</td>\n",
       "      <td>1.0</td>\n",
       "      <td>0.0</td>\n",
       "      <td>0.003020</td>\n",
       "      <td>0.003029</td>\n",
       "      <td>0.002980</td>\n",
       "      <td>0.003020</td>\n",
       "      <td>0.003027</td>\n",
       "      <td>0.002252</td>\n",
       "    </tr>\n",
       "  </tbody>\n",
       "</table>\n",
       "</div>"
      ],
      "text/plain": [
       "             id           created_at  \\\n",
       "0  1.215527e+18  2020-01-09 22:53:10   \n",
       "1  1.237785e+18  2020-03-11 09:57:51   \n",
       "2  1.256351e+18  2020-05-01 15:34:24   \n",
       "3  1.256354e+18  2020-05-01 15:44:56   \n",
       "4  1.284290e+18  2020-07-17 17:53:43   \n",
       "\n",
       "                                               tweet  \\\n",
       "0                      Bitcoin is *not* my safe word   \n",
       "1                                           Moon too   \n",
       "2                                        @Bitcoin 🤣🤣   \n",
       "3  @Bitcoin How much for some anime Bitcoin?  htt...   \n",
       "4            @izzynobre Excuse me, I only sell Doge!   \n",
       "\n",
       "                        noun_phrases  polarity  subjectivity  is_btc  is_doge  \\\n",
       "0           ['bitcoin', 'safe word']     0.500         0.500     1.0      0.0   \n",
       "1                           ['moon']     0.000         0.000     0.0      0.0   \n",
       "2                        ['bitcoin']     0.000         0.000     1.0      0.0   \n",
       "3             ['bitcoin', 'bitcoin']     0.200         0.200     1.0      0.0   \n",
       "4  ['@ izzynobre', 'excuse', 'doge']    -0.025         0.525     0.0      1.0   \n",
       "\n",
       "   is_crypto  is_tesla  5 minutes beginning value  5 minutes end value  \\\n",
       "0        1.0       0.0                   0.002133             0.002133   \n",
       "1        1.0       0.0                   0.002182             0.002181   \n",
       "2        1.0       0.0                   0.002485             0.002479   \n",
       "3        1.0       0.0                   0.002480             0.002479   \n",
       "4        1.0       0.0                   0.003020             0.003029   \n",
       "\n",
       "   5 minutes change pct  30 minutes beginning value  30 minutes end value  \\\n",
       "0             -0.000094                    0.002133              0.002123   \n",
       "1             -0.000367                    0.002182              0.002165   \n",
       "2             -0.002535                    0.002485              0.002461   \n",
       "3             -0.000444                    0.002480              0.002457   \n",
       "4              0.002980                    0.003020              0.003027   \n",
       "\n",
       "   30 minutes change pct  \n",
       "0              -0.004781  \n",
       "1              -0.007472  \n",
       "2              -0.009737  \n",
       "3              -0.009274  \n",
       "4               0.002252  "
      ]
     },
     "execution_count": 8,
     "metadata": {},
     "output_type": "execute_result"
    }
   ],
   "source": [
    "dogecoin_values_df.head()\n",
    "cyrpto_dogeval_tweets.head()\n",
    "\n"
   ]
  },
  {
   "cell_type": "code",
   "execution_count": 9,
   "metadata": {},
   "outputs": [
    {
     "data": {
      "text/plain": [
       "<AxesSubplot:xlabel='created_at', ylabel='5 minutes change pct'>"
      ]
     },
     "execution_count": 9,
     "metadata": {},
     "output_type": "execute_result"
    },
    {
     "data": {
      "image/png": "[encoded data removed]",
      "text/plain": [
       "<Figure size 432x288 with 1 Axes>"
      ]
     },
     "metadata": {
      "needs_background": "light"
     },
     "output_type": "display_data"
    }
   ],
   "source": [
    "\n",
    "cyrpto_dogeval_tweets.plot.scatter(x='created_at', y='5 minutes change pct')"
   ]
  },
  {
   "cell_type": "code",
   "execution_count": 10,
   "metadata": {},
   "outputs": [
    {
     "data": {
      "text/plain": [
       "<AxesSubplot:xlabel='created_at', ylabel='5 minutes change pct'>"
      ]
     },
     "execution_count": 10,
     "metadata": {},
     "output_type": "execute_result"
    },
    {
     "data": {
      "image/png": "[encoded data removed]",
      "text/plain": [
       "<Figure size 432x288 with 1 Axes>"
      ]
     },
     "metadata": {
      "needs_background": "light"
     },
     "output_type": "display_data"
    }
   ],
   "source": [
    "only_doge_tweet_df = cyrpto_dogeval_tweets[cyrpto_dogeval_tweets['is_doge'] > 0]\n",
    "\n",
    "only_doge_tweet_df.plot.scatter(x='created_at', y='5 minutes change pct')"
   ]
  },
  {
   "cell_type": "code",
   "execution_count": 11,
   "metadata": {},
   "outputs": [
    {
     "data": {
      "text/plain": [
       "<AxesSubplot:xlabel='created_at', ylabel='5 minutes change pct'>"
      ]
     },
     "execution_count": 11,
     "metadata": {},
     "output_type": "execute_result"
    },
    {
     "data": {
      "image/png": "[encoded data removed]",
      "text/plain": [
       "<Figure size 432x288 with 1 Axes>"
      ]
     },
     "metadata": {
      "needs_background": "light"
     },
     "output_type": "display_data"
    }
   ],
   "source": [
    "only_crypto_tweets_df = cyrpto_dogeval_tweets[cyrpto_dogeval_tweets['is_crypto'] > 0]\n",
    "only_crypto_tweets_df.plot.scatter(x='created_at', y='5 minutes change pct')"
   ]
  },
  {
   "cell_type": "code",
   "execution_count": 12,
   "metadata": {},
   "outputs": [
    {
     "data": {
      "text/plain": [
       "<AxesSubplot:xlabel='created_at', ylabel='5 minutes change pct'>"
      ]
     },
     "execution_count": 12,
     "metadata": {},
     "output_type": "execute_result"
    },
    {
     "data": {
      "image/png": "[encoded data removed]",
      "text/plain": [
       "<Figure size 432x288 with 1 Axes>"
      ]
     },
     "metadata": {
      "needs_background": "light"
     },
     "output_type": "display_data"
    }
   ],
   "source": [
    "only_tesla_tweets_df = cyrpto_dogeval_tweets[cyrpto_dogeval_tweets['is_tesla'] > 0]\n",
    "only_tesla_tweets_df.plot.scatter(x='created_at', y='5 minutes change pct')"
   ]
  },
  {
   "cell_type": "code",
   "execution_count": 13,
   "metadata": {},
   "outputs": [
    {
     "data": {
      "text/plain": [
       "'2021-05-25 13:16:51'"
      ]
     },
     "execution_count": 13,
     "metadata": {},
     "output_type": "execute_result"
    }
   ],
   "source": [
    "only_doge_tweet_df['created_at'].max()"
   ]
  },
  {
   "cell_type": "code",
   "execution_count": 16,
   "metadata": {},
   "outputs": [
    {
     "data": {
      "image/png": "[encoded data removed]",
      "text/plain": [
       "<Figure size 432x288 with 1 Axes>"
      ]
     },
     "metadata": {
      "needs_background": "light"
     },
     "output_type": "display_data"
    }
   ],
   "source": [
    "only_doge_tweet_df = only_doge_tweet_df.sort_values(by='created_at')\n",
    "\n",
    "first_doge_tweet_date = only_doge_tweet_df['created_at'].min()\n",
    "\n",
    "last_doge_tweet_date = only_doge_tweet_df['created_at'].max()\n",
    "\n",
    "fig = plt.scatter( only_crypto_tweets_df['created_at'], only_crypto_tweets_df['5 minutes change pct'])\n"
   ]
  },
  {
   "cell_type": "code",
   "execution_count": null,
   "metadata": {},
   "outputs": [],
   "source": []
  }
 ],
 "metadata": {
  "interpreter": {
   "hash": "62249ab88f004581040b552093f6a37d297968d50509d16f925c90e58a716667"
  },
  "kernelspec": {
   "display_name": "Python 3",
   "language": "python",
   "name": "python3"
  },
  "language_info": {
   "codemirror_mode": {
    "name": "ipython",
    "version": 3
   },
   "file_extension": ".py",
   "mimetype": "text/x-python",
   "name": "python",
   "nbconvert_exporter": "python",
   "pygments_lexer": "ipython3",
   "version": "3.8.8"
  }
 },
 "nbformat": 4,
 "nbformat_minor": 2
}
